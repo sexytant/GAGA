{
 "cells": [
  {
   "cell_type": "markdown",
   "metadata": {},
   "source": [
    "# カード問題\n",
    "\n",
    "## 問\n",
    "10枚のカードに，それぞれ1から10までの番号が書いてある。\n",
    "これらのグループを二つのグループA,Bに分けて，グループAのカード番号の総和を36,グルーブBの番号のカードの積が360となるようなグループ分けを行いたい。"
   ]
  },
  {
   "cell_type": "code",
   "execution_count": 1,
   "metadata": {},
   "outputs": [],
   "source": [
    "from typing import NewType,List, Sequence,Tuple\n",
    "from gaga.cga.component import Base, Codon, Individual,Population\n",
    "from random import randrange\n",
    "\n",
    "\n",
    "\n",
    "class Affiliation(Base):\n",
    "    groups=(\"A\",\"B\")\n",
    "    def __init__(self, group: str) -> None:\n",
    "        if group not in self.groups:\n",
    "            raise ValueError\n",
    "        super().__init__(id=None, type=None, letter=group)\n",
    "        self.group=self.letter\n",
    "\n",
    "class Card(Codon):\n",
    "    def __init__(self, id: int, value: int, a: Affiliation) -> None:\n",
    "        super().__init__(id=id, type=str(value), basis=[a])\n",
    "        self.value=self.type\n",
    "        self.group=self.basis[0].letter\n",
    "\n",
    "class Grouping(Individual):\n",
    "    def __init__(self, id: int, cards: List[Card], score: float):\n",
    "        super().__init__(id=id, gene=cards, score=score)\n",
    "        self.cards=self.gene\n",
    "    def display(self):\n",
    "        for card in self.cards:\n",
    "            print(card.value,card.group)"
   ]
  },
  {
   "cell_type": "code",
   "execution_count": 6,
   "metadata": {},
   "outputs": [],
   "source": [
    "class Creator:\n",
    "    def giveAffilation(self):\n",
    "        groups=(\"A\",\"B\")\n",
    "        return Affiliation(\"A\" if randrange(0,len(groups))==0 else \"B\")\n",
    "    def createCards(self):\n",
    "        numbers=(1,2,3,4,5,6,7,8,9,10)\n",
    "        return [Card(i,numbers[i],self.giveAffilation()) for i in range(len(numbers))]\n",
    "    def createGroupings(self,size):    \n",
    "        return [Grouping(i,self.createCards(),None) for i in range(size)]\n",
    "    def createPopulation(self,popSize):\n",
    "        return Population(popSize,0,self.createGroupings(popSize))"
   ]
  },
  {
   "cell_type": "code",
   "execution_count": 7,
   "metadata": {},
   "outputs": [
    {
     "data": {
      "text/plain": [
       "<gaga.cga.component.Population at 0x10bed65f0>"
      ]
     },
     "execution_count": 7,
     "metadata": {},
     "output_type": "execute_result"
    }
   ],
   "source": [
    "god=Creator()\n",
    "god.createPopulation(popSize=10)"
   ]
  }
 ],
 "metadata": {
  "kernelspec": {
   "display_name": "base",
   "language": "python",
   "name": "python3"
  },
  "language_info": {
   "codemirror_mode": {
    "name": "ipython",
    "version": 3
   },
   "file_extension": ".py",
   "mimetype": "text/x-python",
   "name": "python",
   "nbconvert_exporter": "python",
   "pygments_lexer": "ipython3",
   "version": "3.10.6"
  }
 },
 "nbformat": 4,
 "nbformat_minor": 2
}
