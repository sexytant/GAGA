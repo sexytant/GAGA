{
 "cells": [
  {
   "cell_type": "markdown",
   "metadata": {},
   "source": [
    "# カード問題\n",
    "\n",
    "## 問\n",
    "10枚のカードに，それぞれ1から10までの番号が書いてある。\n",
    "これらのグループを二つのグループA,Bに分けて，グループAのカード番号の総和を36,グルーブBの番号のカードの積が360となるようなグループ分けを行いたい。"
   ]
  },
  {
   "cell_type": "code",
   "execution_count": 1,
   "metadata": {},
   "outputs": [],
   "source": [
    "from gaga.cga.component import *\n",
    "from random import randrange"
   ]
  },
  {
   "cell_type": "code",
   "execution_count": 2,
   "metadata": {},
   "outputs": [],
   "source": [
    "Affiliation=defBase(className=\"Affiliation\",\n",
    "                    idLabel=\"id\",\n",
    "                    typeLabel=\"type\",\n",
    "                    letterLabel=\"group\")     \n",
    "Card=defCodon(className=\"Card\",\n",
    "              idLabel=\"id\",\n",
    "              typeLabel=\"value\",\n",
    "              basisLabel=\"affiliation\")\n",
    "Grouping=defIndividual(className=\"Grouping\",\n",
    "                       idLabel=\"id\",\n",
    "                       geneLabel=\"cards\",\n",
    "                       scoreLabel=\"score\")"
   ]
  },
  {
   "cell_type": "code",
   "execution_count": 3,
   "metadata": {},
   "outputs": [],
   "source": [
    "class Creator:\n",
    "    def create(self,popSize):\n",
    "        return self.createPopulation(popSize)\n",
    "    def giveAffilation(self):\n",
    "        groups=(\"A\",\"B\")\n",
    "        return Affiliation(None,None,\"A\" if randrange(0,len(groups))==0 else \"B\")\n",
    "    def createCards(self):\n",
    "        numbers=(1,2,3,4,5,6,7,8,9,10)\n",
    "        return [Card(i,numbers[i],self.giveAffilation()) for i in range(len(numbers))]\n",
    "    def createGroupings(self,size):    \n",
    "        return [Grouping(i,self.createCards(),None) for i in range(size)]\n",
    "    def createPopulation(self,popSize):\n",
    "        return Population(popSize,0,self.createGroupings(popSize))"
   ]
  },
  {
   "cell_type": "code",
   "execution_count": 4,
   "metadata": {},
   "outputs": [],
   "source": [
    "creator=Creator()\n",
    "population=creator.create(popSize=10)"
   ]
  },
  {
   "cell_type": "code",
   "execution_count": 5,
   "metadata": {},
   "outputs": [],
   "source": [
    "def fitness(grouping) -> float:\n",
    "    sum_group_A=0.0\n",
    "    prod_group_B=1.0\n",
    "    for card in grouping._gene:\n",
    "        group=card.affiliation.group\n",
    "        value=float(card.value)\n",
    "        if group==\"A\":\n",
    "            sum_group_A=sum_group_A+value\n",
    "        elif group==\"B\":\n",
    "            prod_group_B=prod_group_B*value\n",
    "        else:\n",
    "            print(\"Error\")\n",
    "    return abs(36-sum_group_A)+abs(360-prod_group_B)\n",
    "    "
   ]
  },
  {
   "cell_type": "code",
   "execution_count": 6,
   "metadata": {},
   "outputs": [
    {
     "name": "stdout",
     "output_type": "stream",
     "text": [
      "1447.0\n",
      "40.0\n",
      "57259.0\n",
      "359.0\n",
      "4694.0\n",
      "1888.0\n",
      "1327.0\n",
      "5701.0\n",
      "13095.0\n",
      "244.0\n"
     ]
    }
   ],
   "source": [
    "for grouping in population.individuals:\n",
    "    print(fitness(grouping))"
   ]
  }
 ],
 "metadata": {
  "kernelspec": {
   "display_name": "base",
   "language": "python",
   "name": "python3"
  },
  "language_info": {
   "codemirror_mode": {
    "name": "ipython",
    "version": 3
   },
   "file_extension": ".py",
   "mimetype": "text/x-python",
   "name": "python",
   "nbconvert_exporter": "python",
   "pygments_lexer": "ipython3",
   "version": "3.10.6"
  }
 },
 "nbformat": 4,
 "nbformat_minor": 2
}
